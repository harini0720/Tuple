{
  "nbformat": 4,
  "nbformat_minor": 0,
  "metadata": {
    "colab": {
      "provenance": []
    },
    "kernelspec": {
      "name": "python3",
      "display_name": "Python 3"
    },
    "language_info": {
      "name": "python"
    }
  },
  "cells": [
    {
      "cell_type": "markdown",
      "source": [
        "#Explain about tuple\n",
        "   A tuple in Python is an immutable, ordered collection of elements.once a tuple is crated,its the element cannot be changed, added, or removed. they are defined using parenthess () and elements are separated by comma.\n",
        "\n"
      ],
      "metadata": {
        "id": "uAKGe8lXsuQy"
      }
    },
    {
      "cell_type": "markdown",
      "source": [
        "#creating a tuple :"
      ],
      "metadata": {
        "id": "8Gkn16a2LE8E"
      }
    },
    {
      "cell_type": "markdown",
      "source": [
        "#Empty tuple:\n",
        "*Empty_tuple()"
      ],
      "metadata": {
        "id": "3g0J-EHnLqR0"
      }
    },
    {
      "cell_type": "markdown",
      "source": [
        "#Examples:\n",
        "\n"
      ],
      "metadata": {
        "id": "ux9VfrY4ME2r"
      }
    },
    {
      "cell_type": "code",
      "source": [
        "fruits=(\"apple\",\"banana\",\"orange\")\n",
        "type(fruits)"
      ],
      "metadata": {
        "colab": {
          "base_uri": "https://localhost:8080/"
        },
        "id": "-JE0N6JRMehT",
        "outputId": "085398c3-80c6-432c-80c3-ca4019e03e06"
      },
      "execution_count": null,
      "outputs": [
        {
          "output_type": "execute_result",
          "data": {
            "text/plain": [
              "tuple"
            ]
          },
          "metadata": {},
          "execution_count": 6
        }
      ]
    },
    {
      "cell_type": "code",
      "source": [
        "a=(65,74,'harini',5.87)\n",
        "type(a)"
      ],
      "metadata": {
        "colab": {
          "base_uri": "https://localhost:8080/"
        },
        "id": "dBM2XL_SURbv",
        "outputId": "e80f9fc9-7e18-4555-ab42-64e211d2f8d8"
      },
      "execution_count": null,
      "outputs": [
        {
          "output_type": "execute_result",
          "data": {
            "text/plain": [
              "tuple"
            ]
          },
          "metadata": {},
          "execution_count": 10
        }
      ]
    },
    {
      "cell_type": "code",
      "source": [
        "birds=('peacock','parrot','dove')\n",
        "type(birds)"
      ],
      "metadata": {
        "colab": {
          "base_uri": "https://localhost:8080/"
        },
        "id": "JaP3KyA_TPWI",
        "outputId": "3f3f187f-b3c2-4061-aa63-7295681ddd5a"
      },
      "execution_count": null,
      "outputs": [
        {
          "output_type": "execute_result",
          "data": {
            "text/plain": [
              "tuple"
            ]
          },
          "metadata": {},
          "execution_count": 12
        }
      ]
    },
    {
      "cell_type": "code",
      "source": [
        "states=('andhra','delhi','jammu')\n",
        "type(states)"
      ],
      "metadata": {
        "colab": {
          "base_uri": "https://localhost:8080/"
        },
        "id": "64eixmyBVhVZ",
        "outputId": "c3c39718-3752-4c9b-983a-c1928d58c52e"
      },
      "execution_count": null,
      "outputs": [
        {
          "output_type": "execute_result",
          "data": {
            "text/plain": [
              "tuple"
            ]
          },
          "metadata": {},
          "execution_count": 13
        }
      ]
    },
    {
      "cell_type": "code",
      "source": [
        "my_tuple = (1, 2, 3, 'apple')\n",
        "type(my_tuple)\n",
        "\n"
      ],
      "metadata": {
        "id": "x000Dk5TwT_6",
        "colab": {
          "base_uri": "https://localhost:8080/"
        },
        "outputId": "b5543685-5ebe-4ccd-d822-7ae6b27e7098"
      },
      "execution_count": null,
      "outputs": [
        {
          "output_type": "execute_result",
          "data": {
            "text/plain": [
              "tuple"
            ]
          },
          "metadata": {},
          "execution_count": 14
        }
      ]
    },
    {
      "cell_type": "markdown",
      "source": [
        "#accessing of tuples:\n",
        "*tuples support indexing and slicing just like list."
      ],
      "metadata": {
        "id": "1bKG52wtWcs6"
      }
    },
    {
      "cell_type": "code",
      "source": [
        "animals=('cat','dog','monkey','cow','deer')\n",
        "print(animals[0])"
      ],
      "metadata": {
        "colab": {
          "base_uri": "https://localhost:8080/"
        },
        "id": "62GI4rtBWlUd",
        "outputId": "542aecf0-a6dc-4078-9aa7-7e7e13a940b7"
      },
      "execution_count": null,
      "outputs": [
        {
          "output_type": "stream",
          "name": "stdout",
          "text": [
            "cat\n"
          ]
        }
      ]
    },
    {
      "cell_type": "code",
      "source": [
        "print(animals[1])"
      ],
      "metadata": {
        "colab": {
          "base_uri": "https://localhost:8080/"
        },
        "id": "PyIFHoHcXj3Q",
        "outputId": "c70d7a45-56e2-4766-bf3f-74eac1b5bc68"
      },
      "execution_count": null,
      "outputs": [
        {
          "output_type": "stream",
          "name": "stdout",
          "text": [
            "dog\n"
          ]
        }
      ]
    },
    {
      "cell_type": "code",
      "source": [
        "print(animals[3])"
      ],
      "metadata": {
        "colab": {
          "base_uri": "https://localhost:8080/"
        },
        "id": "mYKvzlcrXqTO",
        "outputId": "6639d37a-42cf-44e4-e27a-afcebf16765e"
      },
      "execution_count": null,
      "outputs": [
        {
          "output_type": "stream",
          "name": "stdout",
          "text": [
            "cow\n"
          ]
        }
      ]
    },
    {
      "cell_type": "code",
      "source": [
        "print(animals[4])"
      ],
      "metadata": {
        "colab": {
          "base_uri": "https://localhost:8080/"
        },
        "id": "2lGDdJ7KXvE5",
        "outputId": "a1a987fb-adfc-4636-88f7-15dd279e9c0c"
      },
      "execution_count": null,
      "outputs": [
        {
          "output_type": "stream",
          "name": "stdout",
          "text": [
            "deer\n"
          ]
        }
      ]
    },
    {
      "cell_type": "code",
      "source": [
        "print(animals[0:3])"
      ],
      "metadata": {
        "colab": {
          "base_uri": "https://localhost:8080/"
        },
        "id": "ywLk0_W5X9LP",
        "outputId": "73a79269-a922-47bf-94e0-eab4566c8e2e"
      },
      "execution_count": null,
      "outputs": [
        {
          "output_type": "stream",
          "name": "stdout",
          "text": [
            "('cat', 'dog', 'monkey')\n"
          ]
        }
      ]
    },
    {
      "cell_type": "code",
      "source": [
        "print(animals[1:3])"
      ],
      "metadata": {
        "colab": {
          "base_uri": "https://localhost:8080/"
        },
        "id": "95BGxTgVYOgn",
        "outputId": "b61acb6f-b8f6-492a-d926-2d02e3463508"
      },
      "execution_count": null,
      "outputs": [
        {
          "output_type": "stream",
          "name": "stdout",
          "text": [
            "('dog', 'monkey')\n"
          ]
        }
      ]
    },
    {
      "cell_type": "code",
      "source": [
        "print(animals[2:4])"
      ],
      "metadata": {
        "colab": {
          "base_uri": "https://localhost:8080/"
        },
        "id": "2xSA91KTYY2p",
        "outputId": "07be62de-b83e-46f4-fd0c-18e27728926c"
      },
      "execution_count": null,
      "outputs": [
        {
          "output_type": "stream",
          "name": "stdout",
          "text": [
            "('monkey', 'cow')\n"
          ]
        }
      ]
    },
    {
      "cell_type": "markdown",
      "source": [
        "#tuple operations:\n",
        "# 1.concatenation: its nothing but combining of two tuple."
      ],
      "metadata": {
        "id": "yM1GBEVjZG7Q"
      }
    },
    {
      "cell_type": "code",
      "source": [
        "tup1=(1,3,6,9,10)\n",
        "tup2=(2,4,5,7,8)\n",
        "print(tup1+tup2)"
      ],
      "metadata": {
        "colab": {
          "base_uri": "https://localhost:8080/"
        },
        "id": "1YUs-LfVZ1iV",
        "outputId": "9c2f3484-108d-4d56-8289-734e603d826d"
      },
      "execution_count": null,
      "outputs": [
        {
          "output_type": "stream",
          "name": "stdout",
          "text": [
            "(1, 3, 6, 9, 10, 2, 4, 5, 7, 8)\n"
          ]
        }
      ]
    },
    {
      "cell_type": "code",
      "source": [
        "tuple1=(1,2,3)\n",
        "tuple2=(4,5,6,7,8,9,10)\n",
        "print(tuple1+tuple2)"
      ],
      "metadata": {
        "colab": {
          "base_uri": "https://localhost:8080/"
        },
        "id": "d89YsilaaTxS",
        "outputId": "eeff902e-1dec-4010-87a1-a1b313c7398d"
      },
      "execution_count": null,
      "outputs": [
        {
          "output_type": "stream",
          "name": "stdout",
          "text": [
            "(1, 2, 3, 4, 5, 6, 7, 8, 9, 10)\n"
          ]
        }
      ]
    },
    {
      "cell_type": "markdown",
      "source": [
        "2.reptition:\n",
        "  repeating a tuple with mentioned times."
      ],
      "metadata": {
        "id": "mujl-WRUa0jh"
      }
    },
    {
      "cell_type": "code",
      "source": [
        "tuple2=(1,2,4.65)\n",
        "print(tuple2*5)"
      ],
      "metadata": {
        "colab": {
          "base_uri": "https://localhost:8080/"
        },
        "id": "DNYJiTXAbKpo",
        "outputId": "47085a7f-45eb-4088-8e8d-b22adf95a4a6"
      },
      "execution_count": null,
      "outputs": [
        {
          "output_type": "stream",
          "name": "stdout",
          "text": [
            "(1, 2, 4.65, 1, 2, 4.65, 1, 2, 4.65, 1, 2, 4.65, 1, 2, 4.65)\n"
          ]
        }
      ]
    },
    {
      "cell_type": "code",
      "source": [
        "tuple1=(1,2,3)\n",
        "print(tuple1*8)"
      ],
      "metadata": {
        "colab": {
          "base_uri": "https://localhost:8080/"
        },
        "id": "TIijdqbUbhGw",
        "outputId": "b604e212-fcf4-4a18-d124-eaab305159a9"
      },
      "execution_count": null,
      "outputs": [
        {
          "output_type": "stream",
          "name": "stdout",
          "text": [
            "(1, 2, 3, 1, 2, 3, 1, 2, 3, 1, 2, 3, 1, 2, 3, 1, 2, 3, 1, 2, 3, 1, 2, 3)\n"
          ]
        }
      ]
    },
    {
      "cell_type": "markdown",
      "source": [
        "#tuple methods:\n",
        "tuple have limited methods compared to lists due to their immutability."
      ],
      "metadata": {
        "id": "V64PwLR-buxn"
      }
    },
    {
      "cell_type": "markdown",
      "source": [
        "1.count(): returns number og occurrences of a specified value."
      ],
      "metadata": {
        "id": "q8c3OxX8JXfS"
      }
    },
    {
      "cell_type": "code",
      "source": [
        "a=('apple','banana','orange','mango','apple','mango','apple')\n",
        "a.count('mango')"
      ],
      "metadata": {
        "colab": {
          "base_uri": "https://localhost:8080/"
        },
        "id": "MvADSkXBJu-K",
        "outputId": "6ad82e14-91e4-445a-8a32-30d23f5f52cf"
      },
      "execution_count": 3,
      "outputs": [
        {
          "output_type": "execute_result",
          "data": {
            "text/plain": [
              "2"
            ]
          },
          "metadata": {},
          "execution_count": 3
        }
      ]
    },
    {
      "cell_type": "code",
      "source": [
        "b=(1,2,3,4,5,6,1,2,1,1,1,1)\n",
        "b.count(1)"
      ],
      "metadata": {
        "colab": {
          "base_uri": "https://localhost:8080/"
        },
        "id": "CVPKdoCYKhBv",
        "outputId": "1fe12b67-7589-4649-fb93-b0549475eab0"
      },
      "execution_count": 4,
      "outputs": [
        {
          "output_type": "execute_result",
          "data": {
            "text/plain": [
              "6"
            ]
          },
          "metadata": {},
          "execution_count": 4
        }
      ]
    },
    {
      "cell_type": "markdown",
      "source": [
        "2.index():returs the index of first occurence of specified value."
      ],
      "metadata": {
        "id": "q3zT1NBHLBF8"
      }
    },
    {
      "cell_type": "code",
      "source": [
        "b=(1,2,3,4,5,6,1,2,1,1,1,1)\n",
        "b.index(2)"
      ],
      "metadata": {
        "colab": {
          "base_uri": "https://localhost:8080/"
        },
        "id": "Q82undOHLewR",
        "outputId": "c4666272-cd6c-459d-80d0-de5de9233d0a"
      },
      "execution_count": 5,
      "outputs": [
        {
          "output_type": "execute_result",
          "data": {
            "text/plain": [
              "1"
            ]
          },
          "metadata": {},
          "execution_count": 5
        }
      ]
    },
    {
      "cell_type": "code",
      "source": [
        "word=('a','b',1,2,3,'a','c','a',1,2,3)\n",
        "word.index(2)"
      ],
      "metadata": {
        "colab": {
          "base_uri": "https://localhost:8080/"
        },
        "id": "J_AZALnSLu1a",
        "outputId": "3c5f4dd0-7cd9-415b-9667-7ed9f278cd5b"
      },
      "execution_count": 6,
      "outputs": [
        {
          "output_type": "execute_result",
          "data": {
            "text/plain": [
              "3"
            ]
          },
          "metadata": {},
          "execution_count": 6
        }
      ]
    },
    {
      "cell_type": "code",
      "source": [
        "hello=(1,2,3,4,'app','app',1,2,'bag',1.3,2,3)\n",
        "hello.index('bag')"
      ],
      "metadata": {
        "colab": {
          "base_uri": "https://localhost:8080/"
        },
        "id": "2L6L-GewL5RS",
        "outputId": "84c88cca-0324-477f-f6cc-badd500cce9d"
      },
      "execution_count": 8,
      "outputs": [
        {
          "output_type": "execute_result",
          "data": {
            "text/plain": [
              "8"
            ]
          },
          "metadata": {},
          "execution_count": 8
        }
      ]
    }
  ]
}